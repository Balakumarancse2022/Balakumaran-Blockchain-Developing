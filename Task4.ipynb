{
 "cells": [
  {
   "cell_type": "code",
   "execution_count": 2,
   "id": "124965b6-6d50-4d45-9192-f28a444e4621",
   "metadata": {},
   "outputs": [
    {
     "name": "stdout",
     "output_type": "stream",
     "text": [
      "Dataset loaded successfully!\n"
     ]
    }
   ],
   "source": [
    "import pandas as pd\n",
    "\n",
    "# Load dataset\n",
    "file_path = r\"C:\\Users\\Balakumaran\\Desktop\\Data Analysis Internship\\Dataset .csv\"\n",
    "df = pd.read_csv(file_path)\n",
    "\n",
    "# Print confirmation message\n",
    "print(\"Dataset loaded successfully!\")\n"
   ]
  },
  {
   "cell_type": "code",
   "execution_count": 3,
   "id": "dec349c4-3b5c-4d65-a4f1-70eabde21a7f",
   "metadata": {},
   "outputs": [
    {
     "name": "stdout",
     "output_type": "stream",
     "text": [
      "Percentage of restaurants offering online delivery:\n",
      "Has Online delivery\n",
      "No     74.337766\n",
      "Yes    25.662234\n",
      "Name: count, dtype: float64\n"
     ]
    }
   ],
   "source": [
    "# Count the number of restaurants with and without online delivery\n",
    "delivery_counts = df['Has Online delivery'].value_counts()\n",
    "\n",
    "# Calculate percentage\n",
    "total_restaurants = len(df)\n",
    "delivery_percentage = (delivery_counts / total_restaurants) * 100\n",
    "\n",
    "# Print percentage of restaurants offering online delivery\n",
    "print(\"Percentage of restaurants offering online delivery:\")\n",
    "print(delivery_percentage)\n"
   ]
  },
  {
   "cell_type": "code",
   "execution_count": null,
   "id": "e0fec0e8-a06c-4374-addb-fa06e5c6734e",
   "metadata": {},
   "outputs": [],
   "source": []
  }
 ],
 "metadata": {
  "kernelspec": {
   "display_name": "Python 3 (ipykernel)",
   "language": "python",
   "name": "python3"
  },
  "language_info": {
   "codemirror_mode": {
    "name": "ipython",
    "version": 3
   },
   "file_extension": ".py",
   "mimetype": "text/x-python",
   "name": "python",
   "nbconvert_exporter": "python",
   "pygments_lexer": "ipython3",
   "version": "3.13.1"
  }
 },
 "nbformat": 4,
 "nbformat_minor": 5
}
