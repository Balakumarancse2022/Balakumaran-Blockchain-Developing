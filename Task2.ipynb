{
 "cells": [
  {
   "cell_type": "code",
   "execution_count": 2,
   "id": "7a43b46c-f05d-49d7-88d0-6fd816a340e5",
   "metadata": {},
   "outputs": [
    {
     "name": "stdout",
     "output_type": "stream",
     "text": [
      "City with the highest number of restaurants: New Delhi (5473 restaurants)\n"
     ]
    }
   ],
   "source": [
    "import pandas as pd\n",
    "\n",
    "# Load the dataset\n",
    "file_path = r\"C:\\Users\\Balakumaran\\Desktop\\Data Analysis Internship\\Dataset .csv\"\n",
    "df = pd.read_csv(file_path)\n",
    "\n",
    "# Count the number of restaurants per city\n",
    "city_counts = df['City'].value_counts()\n",
    "\n",
    "# Get the city with the highest number of restaurants\n",
    "top_city = city_counts.idxmax()\n",
    "top_city_count = city_counts.max()\n",
    "\n",
    "print(f\"City with the highest number of restaurants: {top_city} ({top_city_count} restaurants)\")\n"
   ]
  },
  {
   "cell_type": "code",
   "execution_count": 3,
   "id": "7a663ef6-12ad-41a6-8427-49b3a9a2b7e2",
   "metadata": {},
   "outputs": [
    {
     "name": "stdout",
     "output_type": "stream",
     "text": [
      "                City  Aggregate rating\n",
      "0          Abu Dhabi          4.300000\n",
      "1               Agra          3.965000\n",
      "2          Ahmedabad          4.161905\n",
      "3             Albany          3.555000\n",
      "4          Allahabad          3.395000\n",
      "..               ...               ...\n",
      "136          Weirton          3.900000\n",
      "137  Wellington City          4.250000\n",
      "138   Winchester Bay          3.200000\n",
      "139          Yorkton          3.300000\n",
      "140        ��stanbul          4.292857\n",
      "\n",
      "[141 rows x 2 columns]\n"
     ]
    }
   ],
   "source": [
    "# Group by city and calculate the average rating\n",
    "city_avg_ratings = df.groupby('City')['Aggregate rating'].mean().reset_index()\n",
    "\n",
    "# Display the average rating for each city\n",
    "print(city_avg_ratings)\n"
   ]
  },
  {
   "cell_type": "code",
   "execution_count": 4,
   "id": "3169882d-6f0f-49ac-bcdd-9b5be4d3e4e1",
   "metadata": {},
   "outputs": [
    {
     "name": "stdout",
     "output_type": "stream",
     "text": [
      "City with the highest average rating: Inner City (4.90)\n"
     ]
    }
   ],
   "source": [
    "# Find the city with the highest average rating\n",
    "highest_rated_city = city_avg_ratings.loc[city_avg_ratings['Aggregate rating'].idxmax()]\n",
    "\n",
    "print(f\"City with the highest average rating: {highest_rated_city['City']} ({highest_rated_city['Aggregate rating']:.2f})\")\n"
   ]
  },
  {
   "cell_type": "code",
   "execution_count": 2,
   "id": "6cfe16bc-d72c-4854-ba28-d24d1ac8deb8",
   "metadata": {},
   "outputs": [],
   "source": []
  },
  {
   "cell_type": "code",
   "execution_count": null,
   "id": "008a8942-e940-475f-9075-b7f01d795023",
   "metadata": {},
   "outputs": [],
   "source": []
  }
 ],
 "metadata": {
  "kernelspec": {
   "display_name": "Python 3 (ipykernel)",
   "language": "python",
   "name": "python3"
  },
  "language_info": {
   "codemirror_mode": {
    "name": "ipython",
    "version": 3
   },
   "file_extension": ".py",
   "mimetype": "text/x-python",
   "name": "python",
   "nbconvert_exporter": "python",
   "pygments_lexer": "ipython3",
   "version": "3.13.1"
  }
 },
 "nbformat": 4,
 "nbformat_minor": 5
}
